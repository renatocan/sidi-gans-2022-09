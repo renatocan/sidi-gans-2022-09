{
 "cells": [
  {
   "cell_type": "code",
   "execution_count": 1,
   "metadata": {},
   "outputs": [],
   "source": [
    "import torch\n",
    "from torch import nn\n",
    "\n",
    "import math\n",
    "import matplotlib.pyplot as plt"
   ]
  },
  {
   "cell_type": "code",
   "execution_count": 2,
   "metadata": {},
   "outputs": [
    {
     "data": {
      "text/plain": [
       "<torch._C.Generator at 0x7f25b004c5b0>"
      ]
     },
     "execution_count": 2,
     "metadata": {},
     "output_type": "execute_result"
    }
   ],
   "source": [
    "torch.manual_seed(111)"
   ]
  },
  {
   "cell_type": "code",
   "execution_count": 3,
   "metadata": {},
   "outputs": [
    {
     "data": {
      "text/plain": [
       "[<matplotlib.lines.Line2D at 0x7f24e8bc2e30>]"
      ]
     },
     "execution_count": 3,
     "metadata": {},
     "output_type": "execute_result"
    },
    {
     "data": {
      "image/png": "[encoded data removed]",
      "text/plain": [
       "<Figure size 432x288 with 1 Axes>"
      ]
     },
     "metadata": {
      "needs_background": "light"
     },
     "output_type": "display_data"
    }
   ],
   "source": [
    "train_data_length = 1024\n",
    "train_data = torch.zeros((train_data_length, 2))\n",
    "train_data[:,0] = 2*math.pi*torch.rand(train_data_length)\n",
    "train_data[:,1] = torch.sin(train_data[:,0])\n",
    "train_labels = torch.ones(train_data_length)\n",
    "train_set = [(train_data[i], train_labels[i]) for i in range(train_data_length)]\n",
    "\n",
    "plt.plot(train_data[:, 0], train_data[:, 1], '.')"
   ]
  },
  {
   "cell_type": "code",
   "execution_count": 4,
   "metadata": {},
   "outputs": [],
   "source": [
    "batch_size = 32\n",
    "train_loader = torch.utils.data.DataLoader(train_set,\n",
    "                                           batch_size=batch_size,\n",
    "                                           shuffle=True)"
   ]
  },
  {
   "cell_type": "code",
   "execution_count": 5,
   "metadata": {},
   "outputs": [],
   "source": [
    "class Discriminator(nn.Module):\n",
    "    def __init__(self):\n",
    "        super().__init__()\n",
    "        self.model = nn.Sequential(\n",
    "            nn.Linear(2, 256),\n",
    "            nn.ReLU(),\n",
    "            nn.Dropout(0.3),\n",
    "            nn.Linear(256, 128),\n",
    "            nn.ReLU(),\n",
    "            nn.Dropout(0.3),\n",
    "            nn.Linear(128, 64),\n",
    "            nn.ReLU(),\n",
    "            nn.Dropout(0.3),\n",
    "            nn.Linear(64, 1),\n",
    "            nn.Sigmoid()\n",
    "        )\n",
    "\n",
    "    def forward(self, x):\n",
    "        output = self.model(x)\n",
    "        return output"
   ]
  },
  {
   "cell_type": "code",
   "execution_count": 6,
   "metadata": {},
   "outputs": [],
   "source": [
    "discriminator = Discriminator()"
   ]
  },
  {
   "cell_type": "code",
   "execution_count": 7,
   "metadata": {},
   "outputs": [],
   "source": [
    "class Generator(nn.Module):\n",
    "    def __init__(self):\n",
    "        super().__init__()\n",
    "        self.model = nn.Sequential(\n",
    "            nn.Linear(2, 16),\n",
    "            nn.ReLU(),\n",
    "            nn.Linear(16, 32),\n",
    "            nn.ReLU(),\n",
    "            nn.Linear(32, 2),            \n",
    "        )\n",
    "\n",
    "    def forward(self, x):\n",
    "        output = self.model(x)\n",
    "        return output"
   ]
  },
  {
   "cell_type": "code",
   "execution_count": 8,
   "metadata": {},
   "outputs": [],
   "source": [
    "generator = Generator()"
   ]
  },
  {
   "cell_type": "code",
   "execution_count": 9,
   "metadata": {},
   "outputs": [],
   "source": [
    "lr = 0.001\n",
    "num_epochs = 300\n",
    "loss_function = nn.BCELoss()"
   ]
  },
  {
   "cell_type": "code",
   "execution_count": 10,
   "metadata": {},
   "outputs": [],
   "source": [
    "optimizer_discriminator = torch.optim.Adam(discriminator.parameters(), lr=lr)\n",
    "optimizer_generator = torch.optim.Adam(generator.parameters(), lr=lr)"
   ]
  },
  {
   "cell_type": "code",
   "execution_count": 11,
   "metadata": {},
   "outputs": [
    {
     "name": "stdout",
     "output_type": "stream",
     "text": [
      "Epoch: 0 Loss D.: 0.21308739483356476\n",
      "Epoch: 0 Loss G.: 1.7989580631256104\n",
      "Epoch: 10 Loss D.: 0.6099680662155151\n",
      "Epoch: 10 Loss G.: 0.9077383875846863\n",
      "Epoch: 20 Loss D.: 0.6200630068778992\n",
      "Epoch: 20 Loss G.: 0.9532098174095154\n",
      "Epoch: 30 Loss D.: 0.6287151575088501\n",
      "Epoch: 30 Loss G.: 0.9853400588035583\n",
      "Epoch: 40 Loss D.: 0.6810688972473145\n",
      "Epoch: 40 Loss G.: 0.7801269888877869\n",
      "Epoch: 50 Loss D.: 0.6243016719818115\n",
      "Epoch: 50 Loss G.: 0.7867028713226318\n",
      "Epoch: 60 Loss D.: 0.6965182423591614\n",
      "Epoch: 60 Loss G.: 0.7196966409683228\n",
      "Epoch: 70 Loss D.: 0.6702727675437927\n",
      "Epoch: 70 Loss G.: 0.6862975358963013\n",
      "Epoch: 80 Loss D.: 0.6660242080688477\n",
      "Epoch: 80 Loss G.: 0.7360625863075256\n",
      "Epoch: 90 Loss D.: 0.6804236173629761\n",
      "Epoch: 90 Loss G.: 0.7377249598503113\n",
      "Epoch: 100 Loss D.: 0.6685230135917664\n",
      "Epoch: 100 Loss G.: 0.6616672873497009\n",
      "Epoch: 110 Loss D.: 0.6592780351638794\n",
      "Epoch: 110 Loss G.: 0.773524284362793\n",
      "Epoch: 120 Loss D.: 0.713202953338623\n",
      "Epoch: 120 Loss G.: 0.6608763933181763\n",
      "Epoch: 130 Loss D.: 0.6733319759368896\n",
      "Epoch: 130 Loss G.: 0.7208426594734192\n",
      "Epoch: 140 Loss D.: 0.6663312911987305\n",
      "Epoch: 140 Loss G.: 0.7792113423347473\n",
      "Epoch: 150 Loss D.: 0.6672655940055847\n",
      "Epoch: 150 Loss G.: 0.7662031650543213\n",
      "Epoch: 160 Loss D.: 0.6884899735450745\n",
      "Epoch: 160 Loss G.: 0.6837639212608337\n",
      "Epoch: 170 Loss D.: 0.6683568954467773\n",
      "Epoch: 170 Loss G.: 0.7028436064720154\n",
      "Epoch: 180 Loss D.: 0.646504282951355\n",
      "Epoch: 180 Loss G.: 0.8058161735534668\n",
      "Epoch: 190 Loss D.: 0.6615227460861206\n",
      "Epoch: 190 Loss G.: 0.8139886856079102\n",
      "Epoch: 200 Loss D.: 0.6824693083763123\n",
      "Epoch: 200 Loss G.: 0.8145924806594849\n",
      "Epoch: 210 Loss D.: 0.6892175078392029\n",
      "Epoch: 210 Loss G.: 0.7453469634056091\n",
      "Epoch: 220 Loss D.: 0.7159934639930725\n",
      "Epoch: 220 Loss G.: 0.7042151689529419\n",
      "Epoch: 230 Loss D.: 0.6236348748207092\n",
      "Epoch: 230 Loss G.: 1.0712275505065918\n",
      "Epoch: 240 Loss D.: 0.622538685798645\n",
      "Epoch: 240 Loss G.: 1.062670111656189\n",
      "Epoch: 250 Loss D.: 0.5843955874443054\n",
      "Epoch: 250 Loss G.: 0.8436558842658997\n",
      "Epoch: 260 Loss D.: 0.6737012267112732\n",
      "Epoch: 260 Loss G.: 0.7766329050064087\n",
      "Epoch: 270 Loss D.: 0.6155998706817627\n",
      "Epoch: 270 Loss G.: 0.900280773639679\n",
      "Epoch: 280 Loss D.: 0.6938832998275757\n",
      "Epoch: 280 Loss G.: 0.762033224105835\n",
      "Epoch: 290 Loss D.: 0.6281052827835083\n",
      "Epoch: 290 Loss G.: 0.7862915992736816\n"
     ]
    }
   ],
   "source": [
    "for epoch in range(num_epochs):    \n",
    "    for n, (real_samples, _) in enumerate(train_loader):\n",
    "        # Data for training the discriminator\n",
    "        real_samples_labels = torch.ones((batch_size, 1))\n",
    "        latent_space_samples = torch.randn((batch_size, 2))\n",
    "        generated_samples = generator(latent_space_samples)\n",
    "        generated_samples_labels = torch.zeros((batch_size, 1))\n",
    "        all_samples = torch.cat((real_samples, generated_samples))        \n",
    "        all_samples_labels = torch.cat(\n",
    "            (real_samples_labels, generated_samples_labels)\n",
    "        )\n",
    "        \n",
    "        # Training the discriminator\n",
    "        discriminator.zero_grad()\n",
    "        output_discriminator = discriminator(all_samples)\n",
    "        loss_discriminator = loss_function(\n",
    "            output_discriminator, all_samples_labels)\n",
    "        loss_discriminator.backward()\n",
    "        optimizer_discriminator.step()\n",
    "\n",
    "        # Data for training the generator\n",
    "        latent_space_samples = torch.randn((batch_size, 2))\n",
    "\n",
    "        # Training the generator\n",
    "        generator.zero_grad()\n",
    "        generated_samples = generator(latent_space_samples)\n",
    "        output_discriminator_generated = discriminator(generated_samples)\n",
    "        loss_generator = loss_function(\n",
    "            output_discriminator_generated, real_samples_labels)\n",
    "        loss_generator.backward()\n",
    "        optimizer_generator.step()\n",
    "\n",
    "        # Show loss\n",
    "        if epoch % 10 == 0 and n == batch_size - 1:\n",
    "            print(f\"Epoch: {epoch} Loss D.: {loss_discriminator}\")\n",
    "            print(f\"Epoch: {epoch} Loss G.: {loss_generator}\")      \n"
   ]
  },
  {
   "cell_type": "code",
   "execution_count": 12,
   "metadata": {},
   "outputs": [],
   "source": [
    "latent_space_samples = torch.randn(100, 2)\n",
    "generated_samples = generator(latent_space_samples)"
   ]
  },
  {
   "cell_type": "code",
   "execution_count": 13,
   "metadata": {
    "scrolled": true
   },
   "outputs": [
    {
     "data": {
      "text/plain": [
       "[<matplotlib.lines.Line2D at 0x7f24e8afa170>]"
      ]
     },
     "execution_count": 13,
     "metadata": {},
     "output_type": "execute_result"
    },
    {
     "data": {
      "image/png": "[encoded data removed]",
      "text/plain": [
       "<Figure size 432x288 with 1 Axes>"
      ]
     },
     "metadata": {
      "needs_background": "light"
     },
     "output_type": "display_data"
    }
   ],
   "source": [
    "generated_samples = generated_samples.detach()\n",
    "plt.plot(generated_samples[:,0], generated_samples[:,1], '.')"
   ]
  },
  {
   "cell_type": "code",
   "execution_count": 14,
   "metadata": {},
   "outputs": [],
   "source": [
    "torch.save(generator.state_dict(), \"./generator_x1x2.pt\")\n",
    "torch.save(discriminator.state_dict(), \"./discriminator_x1x2.pt\")"
   ]
  }
 ],
 "metadata": {
  "kernelspec": {
   "display_name": "miniconda-main",
   "language": "python",
   "name": "miniconda-main"
  },
  "language_info": {
   "codemirror_mode": {
    "name": "ipython",
    "version": 3
   },
   "file_extension": ".py",
   "mimetype": "text/x-python",
   "name": "python",
   "nbconvert_exporter": "python",
   "pygments_lexer": "ipython3",
   "version": "3.10.5"
  }
 },
 "nbformat": 4,
 "nbformat_minor": 4
}
